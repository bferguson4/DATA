{
 "cells": [
  {
   "cell_type": "code",
   "execution_count": null,
   "metadata": {},
   "outputs": [],
   "source": [
    "import pandas as pd\n",
    "import numpy as np\n",
    "import math\n",
    "from sklearn.ensemble import RandomForestRegressor, RandomForestClassifier\n",
    "from sklearn.tree import DecisionTreeRegressor, DecisionTreeClassifier\n",
    "from sklearn.neighbors import KNeighborsClassifier, KNeighborsRegressor\n",
    "from sklearn.model_selection import train_test_split\n",
    "from sklearn.metrics import accuracy_score, r2_score\n",
    "import gradio as gr\n",
    "import seaborn as sns\n",
    "import matplotlib.pyplot as plt"
   ]
  },
  {
   "cell_type": "code",
   "execution_count": null,
   "metadata": {},
   "outputs": [],
   "source": [
    "games_df = pd.read_csv('games.csv')\n",
    "games_details_df = pd.read_csv('games_details.csv')\n",
    "players_df = pd.read_csv('players.csv')\n",
    "ranking_df = pd.read_csv('ranking.csv')\n",
    "teams_df = pd.read_csv('teams.csv')"
   ]
  },
  {
   "cell_type": "markdown",
   "metadata": {},
   "source": [
    "### Preparing the Data"
   ]
  },
  {
   "cell_type": "code",
   "execution_count": null,
   "metadata": {},
   "outputs": [],
   "source": [
    "games_details_df = games_details_df[games_details_df['COMMENT'].isna()]\n",
    "\n",
    "games_details_df[\"PLUS_MINUS\"] = games_details_df['PLUS_MINUS'].replace(np.nan, 0)\n",
    "\n",
    "games_df = games_df.dropna()\n",
    "\n",
    "game_dropped_columns = [\"GAME_DATE_EST\", \"GAME_ID\" , \"GAME_STATUS_TEXT\", \"HOME_TEAM_ID\", \"VISITOR_TEAM_ID\"]\n",
    "details_dropped_columns = [\"GAME_ID\",\"TEAM_ID\",\"TEAM_ABBREVIATION\",\"TEAM_CITY\",\"PLAYER_ID\",\"PLAYER_NAME\",\"NICKNAME\",\"START_POSITION\", 'COMMENT']\n",
    "stats = ['FGM','FGA','FG_PCT','FG3M','FG3A','FG3_PCT','FTM','FTA','FT_PCT','OREB','DREB','REB','AST','STL','BLK','TO','PTS','PLUS_MINUS']"
   ]
  },
  {
   "cell_type": "code",
   "execution_count": null,
   "metadata": {},
   "outputs": [],
   "source": [
    "team_ids = teams_df['TEAM_ID'].unique()"
   ]
  },
  {
   "cell_type": "code",
   "execution_count": null,
   "metadata": {},
   "outputs": [],
   "source": [
    "# Changing the minute values to floats\n",
    "def min_to_float(min):\n",
    "    if (type(min) == str):\n",
    "        if (':' in min):\n",
    "            if (\".\" in min):\n",
    "                split = min.split('.')\n",
    "                min = \":\".join([split[0], split[1][-2:]])\n",
    "            mins, secs = map(int, min.split(':'))\n",
    "            return (mins + secs) / 60.0\n",
    "        else:\n",
    "            return float(min)\n",
    "    return min\n",
    "\n",
    "games_details_df[\"MIN\"] = games_details_df[\"MIN\"].apply(min_to_float)"
   ]
  },
  {
   "cell_type": "markdown",
   "metadata": {},
   "source": [
    "### Prediction Functionality"
   ]
  },
  {
   "cell_type": "code",
   "execution_count": null,
   "metadata": {},
   "outputs": [],
   "source": [
    "def get_team_id(name):\n",
    "    return teams_df[teams_df['NICKNAME'] == name]['TEAM_ID'].values[0]"
   ]
  },
  {
   "cell_type": "code",
   "execution_count": null,
   "metadata": {},
   "outputs": [],
   "source": [
    "# Creates predictions for classifer bets\n",
    "def predict_classifer(X, y):\n",
    "    X_train, X_test, y_train, y_test = train_test_split(X,              \n",
    "                                                    y,              \n",
    "                                                    test_size=0.2,  \n",
    "                                                    random_state=20,\n",
    "                                                    stratify=y\n",
    "                                                   )\n",
    "    c = KNeighborsClassifier()\n",
    "    c.fit(X_train, y_train)\n",
    "\n",
    "    return c.predict(X_test)"
   ]
  },
  {
   "cell_type": "code",
   "execution_count": null,
   "metadata": {},
   "outputs": [],
   "source": [
    "# Creates predictinos for regressor bets\n",
    "def predict_regressor(X, y):\n",
    "    X_train, X_test, y_train, y_test = train_test_split(X,              \n",
    "                                                    y,              \n",
    "                                                    test_size=0.2,  \n",
    "                                                    random_state=20,\n",
    "                                                   )\n",
    "    r = RandomForestRegressor(random_state=7)\n",
    "    r.fit(X_train, y_train)\n",
    "\n",
    "    return r.predict(X_test)"
   ]
  },
  {
   "cell_type": "code",
   "execution_count": null,
   "metadata": {},
   "outputs": [],
   "source": [
    "#Predicts the winner of a game given a home and an away team\n",
    "def predict_winner(home, away):\n",
    "    X = games_df[(games_df[\"HOME_TEAM_ID\"] == get_team_id(home)) & (games_df['VISITOR_TEAM_ID'] == get_team_id(away))]\n",
    "    X = X.drop(columns=game_dropped_columns)\n",
    "    y = X['HOME_TEAM_WINS']\n",
    "    X = X.drop(columns='HOME_TEAM_WINS')\n",
    "    \n",
    "    predictions = predict_classifer(X, y)\n",
    "\n",
    "    result = np.bincount(predictions).argmax()\n",
    "    \n",
    "    return result == 1"
   ]
  },
  {
   "cell_type": "code",
   "execution_count": null,
   "metadata": {},
   "outputs": [],
   "source": [
    "# Predicts the final score of a game given a homne and away team\n",
    "def predict_score(home, away):\n",
    "    X = games_df[(games_df[\"HOME_TEAM_ID\"] == get_team_id(home)) & (games_df['VISITOR_TEAM_ID'] == get_team_id(away))]\n",
    "    X = X.drop(columns=game_dropped_columns)\n",
    "    y = X[['PTS_home', 'PTS_away']]\n",
    "    X = X.drop(columns=['PTS_home', 'PTS_away'])\n",
    "\n",
    "    predictions = predict_regressor(X, y)\n",
    "\n",
    "    home_scores = predictions[:, 0]\n",
    "    away_scores = predictions[:, 1]\n",
    "\n",
    "    return (math.floor(np.mean(home_scores)), math.floor(np.mean(away_scores)))"
   ]
  },
  {
   "cell_type": "code",
   "execution_count": null,
   "metadata": {},
   "outputs": [],
   "source": [
    "# Predicts a player's stat against a specific team\n",
    "def predict_player_stat_against_team(player, team, stat):\n",
    "    games_played_by_player = games_details_df[games_details_df['PLAYER_NAME'] == player]\n",
    "    game_ids = games_played_by_player['GAME_ID'].tolist()\n",
    "    \n",
    "    games_ids_against_team = []\n",
    "    for game_id in game_ids:\n",
    "        game = games_df[games_df['GAME_ID'] == game_id]\n",
    "        if (game[\"HOME_TEAM_ID\"].values[0] == get_team_id(team) or game[\"VISITOR_TEAM_ID\"].values[0] == get_team_id(team)):\n",
    "            games_ids_against_team.append(game_id)\n",
    "\n",
    "    games_against_team = games_played_by_player[games_played_by_player['GAME_ID'].isin(games_ids_against_team)]\n",
    "    X = games_against_team.drop(columns=details_dropped_columns)\n",
    "    y = X[stat]\n",
    "    X = X.drop(columns=stat)\n",
    "\n",
    "    predictions = predict_regressor(X, y)\n",
    "\n",
    "    return math.floor(np.mean(predictions))"
   ]
  },
  {
   "cell_type": "markdown",
   "metadata": {},
   "source": [
    "### Betting Functionality"
   ]
  },
  {
   "cell_type": "code",
   "execution_count": null,
   "metadata": {},
   "outputs": [],
   "source": [
    "# Returns if a bet involving a number is correct\n",
    "def betting_number(pred, bet, is_betting_over):\n",
    "     return (is_betting_over and bet < pred) or (not is_betting_over and bet > pred)"
   ]
  },
  {
   "cell_type": "code",
   "execution_count": null,
   "metadata": {},
   "outputs": [],
   "source": [
    "# Return if the correct winning team was bet\n",
    "def make_win_bet(home, away, is_home_winning):\n",
    "    pred = predict_winner(home, away)\n",
    "    return is_home_winning == pred"
   ]
  },
  {
   "cell_type": "code",
   "execution_count": null,
   "metadata": {},
   "outputs": [],
   "source": [
    "# Returns if a bet on a final score is correct\n",
    "def make_score_bet(home, away, bet, is_betting_home, is_betting_over):\n",
    "    pred = predict_score(home, away)\n",
    "    if (is_betting_home):\n",
    "        return betting_number(pred[0], bet, is_betting_over), pred[0]\n",
    "    else:\n",
    "        return betting_number(pred[1], bet, is_betting_over), pred[1]"
   ]
  },
  {
   "cell_type": "code",
   "execution_count": null,
   "metadata": {},
   "outputs": [],
   "source": [
    "# Returns if a bet on a player stat is correct\n",
    "def make_player_stat_bet(player, stat, bet, opponent, is_beating_over):\n",
    "    pred = predict_player_stat_against_team(player, opponent, stat)\n",
    "    return betting_number(pred, bet, is_beating_over), pred"
   ]
  },
  {
   "cell_type": "code",
   "execution_count": null,
   "metadata": {},
   "outputs": [],
   "source": [
    "# Displays interface for bets on winning team\n",
    "win_iface = gr.Interface(\n",
    "    fn=make_win_bet,\n",
    "    inputs=[\n",
    "        gr.Textbox(\"\", label=\"Home Team\"),\n",
    "        gr.Textbox(\"\", label=\"Away Team\"),\n",
    "        gr.Checkbox(label=\"Is Home Winning?\")\n",
    "    ],\n",
    "    outputs=gr.Textbox(label='Correct'),\n",
    "    theme=\"compact\",\n",
    "    title=\"Winning Bet Predictor\"\n",
    ")\n",
    "\n",
    "win_iface.launch()"
   ]
  },
  {
   "cell_type": "code",
   "execution_count": 1,
   "metadata": {},
   "outputs": [
    {
     "ename": "NameError",
     "evalue": "name 'gr' is not defined",
     "output_type": "error",
     "traceback": [
      "\u001b[1;31m---------------------------------------------------------------------------\u001b[0m",
      "\u001b[1;31mNameError\u001b[0m                                 Traceback (most recent call last)",
      "Cell \u001b[1;32mIn[1], line 1\u001b[0m\n\u001b[1;32m----> 1\u001b[0m score_iface \u001b[38;5;241m=\u001b[39m \u001b[43mgr\u001b[49m\u001b[38;5;241m.\u001b[39mInterface(\n\u001b[0;32m      2\u001b[0m     fn\u001b[38;5;241m=\u001b[39mmake_score_bet,\n\u001b[0;32m      3\u001b[0m     inputs\u001b[38;5;241m=\u001b[39m[\n\u001b[0;32m      4\u001b[0m         gr\u001b[38;5;241m.\u001b[39mTextbox(\u001b[38;5;124m\"\u001b[39m\u001b[38;5;124m\"\u001b[39m, label\u001b[38;5;241m=\u001b[39m\u001b[38;5;124m\"\u001b[39m\u001b[38;5;124mHome Team\u001b[39m\u001b[38;5;124m\"\u001b[39m),\n\u001b[0;32m      5\u001b[0m         gr\u001b[38;5;241m.\u001b[39mTextbox(\u001b[38;5;124m\"\u001b[39m\u001b[38;5;124m\"\u001b[39m, label\u001b[38;5;241m=\u001b[39m\u001b[38;5;124m\"\u001b[39m\u001b[38;5;124mAway Team\u001b[39m\u001b[38;5;124m\"\u001b[39m),\n\u001b[0;32m      6\u001b[0m         gr\u001b[38;5;241m.\u001b[39mNumber(label\u001b[38;5;241m=\u001b[39m\u001b[38;5;124m'\u001b[39m\u001b[38;5;124mBet\u001b[39m\u001b[38;5;124m'\u001b[39m),\n\u001b[0;32m      7\u001b[0m         gr\u001b[38;5;241m.\u001b[39mCheckbox(label\u001b[38;5;241m=\u001b[39m\u001b[38;5;124m\"\u001b[39m\u001b[38;5;124mBetting home team?\u001b[39m\u001b[38;5;124m\"\u001b[39m),\n\u001b[0;32m      8\u001b[0m         gr\u001b[38;5;241m.\u001b[39mCheckbox(label\u001b[38;5;241m=\u001b[39m\u001b[38;5;124m'\u001b[39m\u001b[38;5;124mBetting Over?\u001b[39m\u001b[38;5;124m'\u001b[39m)\n\u001b[0;32m      9\u001b[0m     ],\n\u001b[0;32m     10\u001b[0m     outputs\u001b[38;5;241m=\u001b[39m[\n\u001b[0;32m     11\u001b[0m         gr\u001b[38;5;241m.\u001b[39mTextbox(label\u001b[38;5;241m=\u001b[39m\u001b[38;5;124m'\u001b[39m\u001b[38;5;124mCorrect\u001b[39m\u001b[38;5;124m'\u001b[39m),\n\u001b[0;32m     12\u001b[0m         gr\u001b[38;5;241m.\u001b[39mTextbox(label\u001b[38;5;241m=\u001b[39m\u001b[38;5;124m'\u001b[39m\u001b[38;5;124mPrediction\u001b[39m\u001b[38;5;124m'\u001b[39m)\n\u001b[0;32m     13\u001b[0m     ],\n\u001b[0;32m     14\u001b[0m     theme\u001b[38;5;241m=\u001b[39m\u001b[38;5;124m\"\u001b[39m\u001b[38;5;124mcompact\u001b[39m\u001b[38;5;124m\"\u001b[39m,\n\u001b[0;32m     15\u001b[0m     title\u001b[38;5;241m=\u001b[39m\u001b[38;5;124m\"\u001b[39m\u001b[38;5;124mScore Bet Predictor\u001b[39m\u001b[38;5;124m\"\u001b[39m\n\u001b[0;32m     16\u001b[0m )\n\u001b[0;32m     18\u001b[0m score_iface\u001b[38;5;241m.\u001b[39mlaunch()\n",
      "\u001b[1;31mNameError\u001b[0m: name 'gr' is not defined"
     ]
    }
   ],
   "source": [
    "# Displays interface for bets on final score\n",
    "score_iface = gr.Interface(\n",
    "    fn=make_score_bet,\n",
    "    inputs=[\n",
    "        gr.Textbox(\"\", label=\"Home Team\"),\n",
    "        gr.Textbox(\"\", label=\"Away Team\"),\n",
    "        gr.Number(label='Bet'),\n",
    "        gr.Checkbox(label=\"Betting home team?\"),\n",
    "        gr.Checkbox(label='Betting Over?')\n",
    "    ],\n",
    "    outputs=[\n",
    "        gr.Textbox(label='Correct'),\n",
    "        gr.Textbox(label='Prediction')\n",
    "    ],\n",
    "    theme=\"compact\",\n",
    "    title=\"Score Bet Predictor\"\n",
    ")\n",
    "\n",
    "score_iface.launch()"
   ]
  },
  {
   "cell_type": "code",
   "execution_count": null,
   "metadata": {},
   "outputs": [],
   "source": [
    "# Displays interface for making player stat bets\n",
    "stat_iface = gr.Interface(\n",
    "    fn=make_player_stat_bet,\n",
    "    inputs=[\n",
    "        gr.Textbox(\"\", label=\"Player\"),\n",
    "        gr.Textbox(\"\", label='Stat'),\n",
    "        gr.Number(label='Bet'),\n",
    "        gr.Textbox(\"\", label='Opponent'),\n",
    "        gr.Checkbox(label='Betting Over?')\n",
    "    ],\n",
    "    outputs=[\n",
    "        gr.Textbox(label='Correct'),\n",
    "        gr.Textbox(label='Prediction')\n",
    "    ],\n",
    "    theme=\"compact\",\n",
    "    title=\"Stat Bet Predictor\"\n",
    ")\n",
    "\n",
    "stat_iface.launch()"
   ]
  },
  {
   "cell_type": "markdown",
   "metadata": {},
   "source": [
    "### Data Visualization"
   ]
  },
  {
   "cell_type": "code",
   "execution_count": null,
   "metadata": {},
   "outputs": [],
   "source": [
    "def team_id_to_name(id):\n",
    "    team = teams_df[teams_df['TEAM_ID'] == id]\n",
    "    return team['NICKNAME'].values[0]\n",
    "\n",
    "home_team_counts = games_df['HOME_TEAM_ID'].value_counts()\n",
    "\n",
    "home_team_names = []\n",
    "for team_id in home_team_counts.index:\n",
    "    team_name = team_id_to_name(team_id)\n",
    "    home_team_names.append(team_name)\n",
    "\n",
    "home_team_counts = home_team_counts.set_axis(home_team_names)\n",
    "home_team_counts.plot(kind='bar')\n",
    "plt.ylabel('Games')\n",
    "plt.title('Home Games Played Per Team')"
   ]
  },
  {
   "cell_type": "code",
   "execution_count": null,
   "metadata": {},
   "outputs": [],
   "source": [
    "away_team_counts = games_df['VISITOR_TEAM_ID'].value_counts()\n",
    "\n",
    "away_team_names = []\n",
    "for team_id in away_team_counts.index:\n",
    "    team_name = team_id_to_name(team_id)\n",
    "    away_team_names.append(team_name)\n",
    "\n",
    "away_team_counts = away_team_counts.set_axis(away_team_names)\n",
    "away_team_counts.plot(kind='bar')\n",
    "plt.ylabel('Games')\n",
    "plt.title('Away Games Played Per Team')"
   ]
  },
  {
   "cell_type": "code",
   "execution_count": null,
   "metadata": {},
   "outputs": [],
   "source": [
    "scores = [games_df['PTS_home'], games_df['PTS_away']]\n",
    "labels = ['Home Scores', 'Away Scores']\n",
    "plt.hist(scores, bins=20, label=labels)\n",
    "plt.ylabel('Frequency')\n",
    "plt.xlabel('Points')\n",
    "plt.title('Final Score in Games')\n",
    "plt.legend()"
   ]
  },
  {
   "cell_type": "code",
   "execution_count": null,
   "metadata": {},
   "outputs": [],
   "source": [
    "player_counts = games_details_df['PLAYER_NAME'].value_counts()\n",
    "\n",
    "player_counts.head(10).plot(kind='bar')\n",
    "plt.ylabel('Games')\n",
    "plt.title('Top 10 Most Played Games by Players')"
   ]
  },
  {
   "cell_type": "code",
   "execution_count": null,
   "metadata": {},
   "outputs": [],
   "source": [
    "points = games_details_df['PTS']\n",
    "plt.hist(points, bins=20)\n",
    "plt.ylabel('Frequency')\n",
    "plt.xlabel('Points')\n",
    "plt.title('Points Scored in Games')"
   ]
  },
  {
   "cell_type": "code",
   "execution_count": null,
   "metadata": {},
   "outputs": [],
   "source": [
    "assits = games_details_df['AST']\n",
    "plt.hist(assits, bins=20)\n",
    "plt.ylabel('Frequency')\n",
    "plt.xlabel('Assists')\n",
    "plt.title('Assists in Games')"
   ]
  },
  {
   "cell_type": "code",
   "execution_count": null,
   "metadata": {},
   "outputs": [],
   "source": [
    "rebs = games_details_df['REB']\n",
    "plt.hist(rebs, bins=20)\n",
    "plt.ylabel('Frequency')\n",
    "plt.xlabel('Reboounds')\n",
    "plt.title('Rebounds in Games')"
   ]
  },
  {
   "cell_type": "code",
   "execution_count": null,
   "metadata": {},
   "outputs": [],
   "source": [
    "wins_per_team = {}\n",
    "for team_id in teams_df['TEAM_ID']:\n",
    "    team_name = team_id_to_name(team_id)\n",
    "    wins_per_team[team_name] = 0\n",
    "\n",
    "for index, game in games_df.iterrows():\n",
    "    home_team = game['HOME_TEAM_ID']\n",
    "    away_team = game['VISITOR_TEAM_ID']\n",
    "    if (game['HOME_TEAM_WINS'] == 1):\n",
    "        wins_per_team[team_id_to_name(home_team)] += 1\n",
    "    else:\n",
    "        wins_per_team[team_id_to_name(away_team)] += 1\n",
    "\n",
    "wins_per_team = dict(sorted(wins_per_team.items(), key=lambda item: item[1], reverse=True))\n",
    "plt.bar(data=wins_per_team, x=wins_per_team.keys(), height=wins_per_team.values())\n",
    "plt.title('Wins Per Team')\n",
    "plt.ylabel('Wins')\n",
    "plt.xticks(rotation=90)"
   ]
  },
  {
   "cell_type": "markdown",
   "metadata": {},
   "source": [
    "### Model Analysis"
   ]
  },
  {
   "cell_type": "code",
   "execution_count": null,
   "metadata": {},
   "outputs": [],
   "source": [
    "# Getting scores for Random Forest Classifier model, Decision Tree Classifier model, and K-Nearest Neighbor Classifier model\n",
    "# on predicting team wins\n",
    "\n",
    "rfc_scores = []\n",
    "dtc_scores = []\n",
    "knnc_scores = []\n",
    "\n",
    "for home_team in team_ids:\n",
    "    for away_team in team_ids:\n",
    "        if (home_team != away_team):\n",
    "            home_vs_away = games_df[(games_df['HOME_TEAM_ID'] == home_team) & (games_df['VISITOR_TEAM_ID'] == away_team)]\n",
    "            X = home_vs_away.drop(columns=game_dropped_columns)\n",
    "            X = X.drop(columns='HOME_TEAM_WINS')\n",
    "            y = home_vs_away['HOME_TEAM_WINS']\n",
    "\n",
    "            X_train, X_test, y_train, y_test = train_test_split(X,              \n",
    "                                                y,              \n",
    "                                                test_size=0.2,  \n",
    "                                                random_state=20,\n",
    "                                                stratify=y\n",
    "                                                )\n",
    "            \n",
    "            rfc = RandomForestClassifier(random_state=20)\n",
    "            rfc.fit(X_train, y_train)\n",
    "\n",
    "            rfc_scores.append(accuracy_score(rfc.predict(X_test), y_test))\n",
    "\n",
    "            dtc = DecisionTreeClassifier(random_state=20)\n",
    "            dtc.fit(X_train, y_train)\n",
    "\n",
    "            dtc_scores.append(accuracy_score(dtc.predict(X_test), y_test))\n",
    "\n",
    "            knnc = KNeighborsClassifier()\n",
    "            knnc.fit(X_train, y_train)\n",
    "\n",
    "            knnc_scores.append(accuracy_score(knnc.predict(X_test), y_test))\n",
    "\n",
    "print({'RFC Score' : np.mean(rfc_scores), 'DTC Score' : np.mean(dtc_scores), 'KNNC Score' : np.mean(knnc_scores)})"
   ]
  },
  {
   "cell_type": "code",
   "execution_count": null,
   "metadata": {},
   "outputs": [],
   "source": [
    "# Getting scores for Random Forest Regressor model, Decision Tree Regressor model, and K-Nearest Neighbor Regressor model\n",
    "# on predicting team score\n",
    "\n",
    "rfr_scores = []\n",
    "dtr_scores = []\n",
    "knnr_scores = []\n",
    "\n",
    "for home_team in team_ids:\n",
    "    for away_team in team_ids:\n",
    "        if (home_team != away_team):\n",
    "            home_vs_away = games_df[(games_df['HOME_TEAM_ID'] == home_team) & (games_df['VISITOR_TEAM_ID'] == away_team)]\n",
    "            X = home_vs_away.drop(columns=game_dropped_columns)\n",
    "            X = X.drop(columns=['PTS_home', 'PTS_away'])\n",
    "            y = home_vs_away[['PTS_home', 'PTS_away']]\n",
    "\n",
    "            X_train, X_test, y_train, y_test = train_test_split(X,              \n",
    "                                                y,              \n",
    "                                                test_size=0.2,  \n",
    "                                                random_state=20,\n",
    "\n",
    "                                                )\n",
    "            \n",
    "            rfr = RandomForestRegressor(random_state=20)\n",
    "            rfr.fit(X_train, y_train)\n",
    "\n",
    "            rfr_scores.append(r2_score(y_pred=rfr.predict(X_test), y_true=y_test))\n",
    "\n",
    "            dtr = DecisionTreeRegressor(random_state=20)\n",
    "            dtr.fit(X_train, y_train)\n",
    "\n",
    "            dtr_scores.append(r2_score(y_pred=dtr.predict(X_test), y_true=y_test))\n",
    "\n",
    "            knnr = KNeighborsRegressor()\n",
    "            knnr.fit(X_train, y_train)\n",
    "\n",
    "            knnr_scores.append(r2_score(y_pred=knnr.predict(X_test), y_true=y_test))\n",
    "\n",
    "print({'RFR Score' : np.mean(rfr_scores), 'DTR Score' : np.mean(dtr_scores), 'KNNR Score' : np.mean(knnr_scores)})"
   ]
  },
  {
   "cell_type": "code",
   "execution_count": null,
   "metadata": {},
   "outputs": [],
   "source": [
    "plt.hist(rfr_scores, bins=30)\n",
    "plt.xticks(np.arange(math.ceil(min(rfr_scores)), math.ceil(max(rfr_scores)+1), 1), rotation=90)\n",
    "plt.title('Distrubution of R^2 Scores Predicting Final Score')\n",
    "plt.ylabel('Frequency')\n",
    "plt.xlabel('R^2')"
   ]
  },
  {
   "cell_type": "code",
   "execution_count": null,
   "metadata": {},
   "outputs": [],
   "source": [
    "# Getting scores for Random Forest Regressor model, Decision Tree Regressor model, and K-Nearest Neighbor Regressor model\n",
    "\n",
    "rfr_scores = []\n",
    "dtr_scores = []\n",
    "knnr_scores = []\n",
    "\n",
    "player_ids = games_details_df['PLAYER_ID'].value_counts().head(10).index\n",
    "for player in player_ids:\n",
    "    games_played_by_player = games_details_df[games_details_df['PLAYER_ID'] == player]\n",
    "    for stat in stats:\n",
    "        X = games_played_by_player.drop(columns=details_dropped_columns)\n",
    "        y = X[stat]\n",
    "        X = X.drop(columns=stat)\n",
    "\n",
    "\n",
    "        X_train, X_test, y_train, y_test = train_test_split(X,              \n",
    "                                                    y,              \n",
    "                                                    test_size=0.2,  \n",
    "                                                    random_state=20,\n",
    "                                                    )\n",
    "                \n",
    "        rfr = RandomForestRegressor(random_state=20)\n",
    "        rfr.fit(X_train, y_train)\n",
    "\n",
    "        rfr_scores.append(r2_score(y_pred=rfr.predict(X_test), y_true=y_test))\n",
    "\n",
    "        dtr = DecisionTreeRegressor(random_state=20)\n",
    "        dtr.fit(X_train, y_train)\n",
    "\n",
    "        dtr_scores.append(r2_score(y_pred=dtr.predict(X_test), y_true=y_test))\n",
    "\n",
    "        knnr = KNeighborsRegressor()\n",
    "        knnr.fit(X_train, y_train)\n",
    "\n",
    "        knnr_scores.append(r2_score(y_pred=knnr.predict(X_test), y_true=y_test))\n",
    "\n",
    "print({'RFR Score' : np.mean(rfr_scores), 'DTR Score' : np.mean(dtr_scores), 'KNNR Score' : np.mean(knnr_scores)})"
   ]
  }
 ],
 "metadata": {
  "kernelspec": {
   "display_name": "Python 3",
   "language": "python",
   "name": "python3"
  },
  "language_info": {
   "codemirror_mode": {
    "name": "ipython",
    "version": 3
   },
   "file_extension": ".py",
   "mimetype": "text/x-python",
   "name": "python",
   "nbconvert_exporter": "python",
   "pygments_lexer": "ipython3",
   "version": "3.11.9"
  }
 },
 "nbformat": 4,
 "nbformat_minor": 2
}
