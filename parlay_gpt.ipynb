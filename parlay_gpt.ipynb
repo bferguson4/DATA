{
 "cells": [
  {
   "cell_type": "code",
   "execution_count": 302,
   "metadata": {},
   "outputs": [],
   "source": [
    "import pandas as pd\n",
    "import numpy as np\n",
    "from sklearn.ensemble import RandomForestRegressor, RandomForestClassifier\n",
    "from sklearn.model_selection import train_test_split"
   ]
  },
  {
   "cell_type": "code",
   "execution_count": 303,
   "metadata": {},
   "outputs": [
    {
     "name": "stderr",
     "output_type": "stream",
     "text": [
      "C:\\Users\\fergb\\AppData\\Local\\Temp\\ipykernel_35100\\2321718875.py:2: DtypeWarning: Columns (6) have mixed types. Specify dtype option on import or set low_memory=False.\n",
      "  games_details_df = pd.read_csv('games_details.csv')\n"
     ]
    }
   ],
   "source": [
    "games_df = pd.read_csv('games.csv')\n",
    "games_details_df = pd.read_csv('games_details.csv')\n",
    "players_df = pd.read_csv('players.csv')\n",
    "ranking_df = pd.read_csv('ranking.csv')\n",
    "teams_df = pd.read_csv('teams.csv')"
   ]
  },
  {
   "cell_type": "code",
   "execution_count": 304,
   "metadata": {},
   "outputs": [],
   "source": [
    "games_details_df = games_details_df[games_details_df['COMMENT'].isna()]"
   ]
  },
  {
   "cell_type": "code",
   "execution_count": 305,
   "metadata": {},
   "outputs": [],
   "source": [
    "def min_to_float(min):\n",
    "    if (type(min) == str):\n",
    "        if (':' in min):\n",
    "            if (\".\" in min):\n",
    "                split = min.split('.')\n",
    "                min = \":\".join([split[0], split[1][-2:]])\n",
    "            mins, secs = map(int, min.split(':'))\n",
    "            return (mins + secs) / 60.0\n",
    "        else:\n",
    "            return float(min)\n",
    "    return min\n",
    "\n",
    "games_details_df[\"MIN\"] = games_details_df[\"MIN\"].apply(min_to_float)"
   ]
  },
  {
   "cell_type": "code",
   "execution_count": 306,
   "metadata": {},
   "outputs": [],
   "source": [
    "game_dropped_columns = [\"GAME_DATE_EST\", \"GAME_ID\" , \"GAME_STATUS_TEXT\", \"HOME_TEAM_ID\", \"VISITOR_TEAM_ID\"]\n",
    "details_dropped_columns = [\"GAME_ID\",\"TEAM_ID\",\"TEAM_ABBREVIATION\",\"TEAM_CITY\",\"PLAYER_ID\",\"PLAYER_NAME\",\"NICKNAME\",\"START_POSITION\", 'COMMENT']"
   ]
  },
  {
   "cell_type": "code",
   "execution_count": 307,
   "metadata": {},
   "outputs": [],
   "source": [
    "def get_team_id(name):\n",
    "    return teams_df[teams_df['NICKNAME'] == name]['TEAM_ID'].values[0]"
   ]
  },
  {
   "cell_type": "code",
   "execution_count": 308,
   "metadata": {},
   "outputs": [],
   "source": [
    "def predict_classifer(X, y):\n",
    "    X_train, X_test, y_train, y_test = train_test_split(X,              \n",
    "                                                    y,              \n",
    "                                                    test_size=0.3,  \n",
    "                                                    random_state=7,\n",
    "                                                    stratify=y\n",
    "                                                   )\n",
    "    rf = RandomForestClassifier(random_state=7)\n",
    "    rf.fit(X_train, y_train)\n",
    "\n",
    "    return rf.predict(X_test)"
   ]
  },
  {
   "cell_type": "code",
   "execution_count": 309,
   "metadata": {},
   "outputs": [],
   "source": [
    "def predict_regressor(X, y):\n",
    "    X_train, X_test, y_train, y_test = train_test_split(X,              \n",
    "                                                    y,              \n",
    "                                                    test_size=0.3,  \n",
    "                                                    random_state=7,\n",
    "                                                \n",
    "                                                   )\n",
    "    rf = RandomForestRegressor(random_state=7)\n",
    "    rf.fit(X_train, y_train)\n",
    "\n",
    "    return rf.predict(X_test)"
   ]
  },
  {
   "cell_type": "code",
   "execution_count": 310,
   "metadata": {},
   "outputs": [],
   "source": [
    "def predict_winner(home, away):\n",
    "    X = games_df[(games_df[\"HOME_TEAM_ID\"] == get_team_id(home)) & (games_df['VISITOR_TEAM_ID'] == get_team_id(away))]\n",
    "    X.drop(columns=game_dropped_columns)\n",
    "    y = X['HOME_TEAM_WINS']\n",
    "    X = X.drop(columns='HOME_TEAM_WINS')\n",
    "    \n",
    "    predictions = predict_classifer(X, y)\n",
    "\n",
    "    result = np.bincount(predictions).argmax()\n",
    "    \n",
    "    if (result == 1):\n",
    "        print(home + ' win')\n",
    "    else:\n",
    "        print(away + ' win')"
   ]
  },
  {
   "cell_type": "code",
   "execution_count": 311,
   "metadata": {},
   "outputs": [],
   "source": [
    "def predict_score(home, away):\n",
    "    X = games_df[(games_df[\"HOME_TEAM_ID\"] == get_team_id(home)) & (games_df['VISITOR_TEAM_ID'] == get_team_id(away))]\n",
    "    X = X.drop(columns=game_dropped_columns)\n",
    "    y = X[['PTS_home', 'PTS_away']]\n",
    "    X = X.drop(columns=['PTS_home', 'PTS_away'])\n",
    "\n",
    "    predictions = predict_regressor(X, y)\n",
    "\n",
    "    home_scores = predictions[:, 0]\n",
    "    away_scores = predictions[:, 1]\n",
    "\n",
    "    print(home + ' will score ' + str(np.mean(home_scores).round(0)))\n",
    "    print(away + ' will score ' + str(np.mean(away_scores).round(0)))\n"
   ]
  },
  {
   "cell_type": "code",
   "execution_count": 329,
   "metadata": {},
   "outputs": [],
   "source": [
    "def predict_player_stat_against_team(player, team, stat):\n",
    "    games_played_by_player = games_details_df[games_details_df['PLAYER_NAME'] == player]\n",
    "    game_ids = games_played_by_player['GAME_ID'].tolist()\n",
    "    \n",
    "    games_ids_against_team = []\n",
    "    for game_id in game_ids:\n",
    "        game = games_df[games_df['GAME_ID'] == game_id]\n",
    "        if (game[\"HOME_TEAM_ID\"].values[0] == get_team_id(team) or game[\"VISITOR_TEAM_ID\"].values[0] == get_team_id(team)):\n",
    "            games_ids_against_team.append(game_id)\n",
    "\n",
    "    games_against_team = games_played_by_player[games_played_by_player['GAME_ID'].isin(games_ids_against_team)]\n",
    "    X = games_against_team.drop(columns=details_dropped_columns)\n",
    "    y = X[stat]\n",
    "    X = X.drop(columns=stat)\n",
    "\n",
    "    predictions = predict_regressor(X, y)\n",
    "\n",
    "    print(player + ' will get '  + str(np.mean(predictions).round(0)) + \" \" + stat)"
   ]
  },
  {
   "cell_type": "code",
   "execution_count": 330,
   "metadata": {},
   "outputs": [
    {
     "name": "stdout",
     "output_type": "stream",
     "text": [
      "Bradley Beal will get 4.0 REB\n"
     ]
    }
   ],
   "source": [
    "predict_player_stat_against_team('Bradley Beal', 'Celtics', 'REB')"
   ]
  }
 ],
 "metadata": {
  "kernelspec": {
   "display_name": "Python 3",
   "language": "python",
   "name": "python3"
  },
  "language_info": {
   "codemirror_mode": {
    "name": "ipython",
    "version": 3
   },
   "file_extension": ".py",
   "mimetype": "text/x-python",
   "name": "python",
   "nbconvert_exporter": "python",
   "pygments_lexer": "ipython3",
   "version": "3.8.10"
  }
 },
 "nbformat": 4,
 "nbformat_minor": 2
}
