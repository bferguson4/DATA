{
 "cells": [
  {
   "cell_type": "code",
   "execution_count": 417,
   "metadata": {},
   "outputs": [],
   "source": [
    "import pandas as pd\n",
    "import numpy as np\n",
    "import math\n",
    "from sklearn.ensemble import RandomForestRegressor, RandomForestClassifier\n",
    "from sklearn.model_selection import train_test_split\n",
    "import gradio as gr"
   ]
  },
  {
   "cell_type": "code",
   "execution_count": 418,
   "metadata": {},
   "outputs": [
    {
     "name": "stderr",
     "output_type": "stream",
     "text": [
      "C:\\Users\\fergb\\AppData\\Local\\Temp\\ipykernel_35100\\2321718875.py:2: DtypeWarning: Columns (6) have mixed types. Specify dtype option on import or set low_memory=False.\n",
      "  games_details_df = pd.read_csv('games_details.csv')\n"
     ]
    }
   ],
   "source": [
    "games_df = pd.read_csv('games.csv')\n",
    "games_details_df = pd.read_csv('games_details.csv')\n",
    "players_df = pd.read_csv('players.csv')\n",
    "ranking_df = pd.read_csv('ranking.csv')\n",
    "teams_df = pd.read_csv('teams.csv')"
   ]
  },
  {
   "cell_type": "markdown",
   "metadata": {},
   "source": [
    "### Preparing the Data"
   ]
  },
  {
   "cell_type": "code",
   "execution_count": 419,
   "metadata": {},
   "outputs": [],
   "source": [
    "games_details_df = games_details_df[games_details_df['COMMENT'].isna()]"
   ]
  },
  {
   "cell_type": "code",
   "execution_count": 420,
   "metadata": {},
   "outputs": [],
   "source": [
    "def min_to_float(min):\n",
    "    if (type(min) == str):\n",
    "        if (':' in min):\n",
    "            if (\".\" in min):\n",
    "                split = min.split('.')\n",
    "                min = \":\".join([split[0], split[1][-2:]])\n",
    "            mins, secs = map(int, min.split(':'))\n",
    "            return (mins + secs) / 60.0\n",
    "        else:\n",
    "            return float(min)\n",
    "    return min\n",
    "\n",
    "games_details_df[\"MIN\"] = games_details_df[\"MIN\"].apply(min_to_float)"
   ]
  },
  {
   "cell_type": "code",
   "execution_count": 421,
   "metadata": {},
   "outputs": [],
   "source": [
    "game_dropped_columns = [\"GAME_DATE_EST\", \"GAME_ID\" , \"GAME_STATUS_TEXT\", \"HOME_TEAM_ID\", \"VISITOR_TEAM_ID\"]\n",
    "details_dropped_columns = [\"GAME_ID\",\"TEAM_ID\",\"TEAM_ABBREVIATION\",\"TEAM_CITY\",\"PLAYER_ID\",\"PLAYER_NAME\",\"NICKNAME\",\"START_POSITION\", 'COMMENT']"
   ]
  },
  {
   "cell_type": "markdown",
   "metadata": {},
   "source": [
    "### Prediction Functionality"
   ]
  },
  {
   "cell_type": "code",
   "execution_count": 422,
   "metadata": {},
   "outputs": [],
   "source": [
    "def get_team_id(name):\n",
    "    return teams_df[teams_df['NICKNAME'] == name]['TEAM_ID'].values[0]"
   ]
  },
  {
   "cell_type": "code",
   "execution_count": 423,
   "metadata": {},
   "outputs": [],
   "source": [
    "def predict_classifer(X, y):\n",
    "    X_train, X_test, y_train, y_test = train_test_split(X,              \n",
    "                                                    y,              \n",
    "                                                    test_size=0.3,  \n",
    "                                                    random_state=7,\n",
    "                                                    stratify=y\n",
    "                                                   )\n",
    "    rf = RandomForestClassifier(random_state=7)\n",
    "    rf.fit(X_train, y_train)\n",
    "\n",
    "    return rf.predict(X_test)"
   ]
  },
  {
   "cell_type": "code",
   "execution_count": 424,
   "metadata": {},
   "outputs": [],
   "source": [
    "def predict_regressor(X, y):\n",
    "    X_train, X_test, y_train, y_test = train_test_split(X,              \n",
    "                                                    y,              \n",
    "                                                    test_size=0.3,  \n",
    "                                                    random_state=7,\n",
    "                                                \n",
    "                                                   )\n",
    "    rf = RandomForestRegressor(random_state=7)\n",
    "    rf.fit(X_train, y_train)\n",
    "\n",
    "    return rf.predict(X_test)"
   ]
  },
  {
   "cell_type": "code",
   "execution_count": 425,
   "metadata": {},
   "outputs": [],
   "source": [
    "def predict_winner(home, away):\n",
    "    X = games_df[(games_df[\"HOME_TEAM_ID\"] == get_team_id(home)) & (games_df['VISITOR_TEAM_ID'] == get_team_id(away))]\n",
    "    X = X.drop(columns=game_dropped_columns)\n",
    "    y = X['HOME_TEAM_WINS']\n",
    "    X = X.drop(columns='HOME_TEAM_WINS')\n",
    "    \n",
    "    predictions = predict_classifer(X, y)\n",
    "\n",
    "    result = np.bincount(predictions).argmax()\n",
    "    \n",
    "    if (result == 1):\n",
    "        return True\n",
    "    else:\n",
    "        return False"
   ]
  },
  {
   "cell_type": "code",
   "execution_count": 426,
   "metadata": {},
   "outputs": [],
   "source": [
    "def predict_score(home, away):\n",
    "    X = games_df[(games_df[\"HOME_TEAM_ID\"] == get_team_id(home)) & (games_df['VISITOR_TEAM_ID'] == get_team_id(away))]\n",
    "    X = X.drop(columns=game_dropped_columns)\n",
    "    y = X[['PTS_home', 'PTS_away']]\n",
    "    X = X.drop(columns=['PTS_home', 'PTS_away'])\n",
    "\n",
    "    predictions = predict_regressor(X, y)\n",
    "\n",
    "    home_scores = predictions[:, 0]\n",
    "    away_scores = predictions[:, 1]\n",
    "\n",
    "    return (math.floor(np.mean(home_scores)), math.floor(np.mean(away_scores)))"
   ]
  },
  {
   "cell_type": "code",
   "execution_count": 427,
   "metadata": {},
   "outputs": [],
   "source": [
    "def predict_player_stat_against_team(player, team, stat):\n",
    "    games_played_by_player = games_details_df[games_details_df['PLAYER_NAME'] == player]\n",
    "    game_ids = games_played_by_player['GAME_ID'].tolist()\n",
    "    \n",
    "    games_ids_against_team = []\n",
    "    for game_id in game_ids:\n",
    "        game = games_df[games_df['GAME_ID'] == game_id]\n",
    "        if (game[\"HOME_TEAM_ID\"].values[0] == get_team_id(team) or game[\"VISITOR_TEAM_ID\"].values[0] == get_team_id(team)):\n",
    "            games_ids_against_team.append(game_id)\n",
    "\n",
    "    games_against_team = games_played_by_player[games_played_by_player['GAME_ID'].isin(games_ids_against_team)]\n",
    "    X = games_against_team.drop(columns=details_dropped_columns)\n",
    "    y = X[stat]\n",
    "    X = X.drop(columns=stat)\n",
    "\n",
    "    predictions = predict_regressor(X, y)\n",
    "\n",
    "    return math.floor(np.mean(predictions))"
   ]
  },
  {
   "cell_type": "markdown",
   "metadata": {},
   "source": [
    "### Betting Functionality"
   ]
  },
  {
   "cell_type": "code",
   "execution_count": 428,
   "metadata": {},
   "outputs": [],
   "source": [
    "def betting_number(pred, bet, is_betting_over):\n",
    "     return (is_betting_over and bet < pred) or (not is_betting_over and bet > pred)"
   ]
  },
  {
   "cell_type": "code",
   "execution_count": 429,
   "metadata": {},
   "outputs": [],
   "source": [
    "def make_win_bet(home, away, is_home_winning):\n",
    "    pred = predict_winner(home, away)\n",
    "    return is_home_winning == pred"
   ]
  },
  {
   "cell_type": "code",
   "execution_count": 430,
   "metadata": {},
   "outputs": [],
   "source": [
    "def make_score_bet(home, away, bet, is_betting_home, is_betting_over):\n",
    "    pred = predict_score(home, away)\n",
    "    if (is_betting_home):\n",
    "        return betting_number(pred[0], bet, is_betting_over), pred[0]\n",
    "    else:\n",
    "        return betting_number(pred[1], bet, is_betting_over), pred[1]"
   ]
  },
  {
   "cell_type": "code",
   "execution_count": 431,
   "metadata": {},
   "outputs": [],
   "source": [
    "def make_player_stat_bet(player, stat, bet, opponent, is_beating_over):\n",
    "    pred = predict_player_stat_against_team(player, opponent, stat)\n",
    "    return betting_number(pred, bet, is_beating_over), pred"
   ]
  },
  {
   "cell_type": "code",
   "execution_count": 432,
   "metadata": {},
   "outputs": [
    {
     "name": "stderr",
     "output_type": "stream",
     "text": [
      "C:\\Users\\fergb\\AppData\\Local\\Packages\\PythonSoftwareFoundation.Python.3.8_qbz5n2kfra8p0\\LocalCache\\local-packages\\Python38\\site-packages\\gradio\\blocks.py:528: UserWarning: Cannot load compact. Caught Exception: The space compact does not exist\n",
      "  warnings.warn(f\"Cannot load {theme}. Caught Exception: {str(e)}\")\n"
     ]
    },
    {
     "name": "stdout",
     "output_type": "stream",
     "text": [
      "Running on local URL:  http://127.0.0.1:7876\n",
      "\n",
      "To create a public link, set `share=True` in `launch()`.\n"
     ]
    },
    {
     "data": {
      "text/html": [
       "<div><iframe src=\"http://127.0.0.1:7876/\" width=\"100%\" height=\"500\" allow=\"autoplay; camera; microphone; clipboard-read; clipboard-write;\" frameborder=\"0\" allowfullscreen></iframe></div>"
      ],
      "text/plain": [
       "<IPython.core.display.HTML object>"
      ]
     },
     "metadata": {},
     "output_type": "display_data"
    },
    {
     "data": {
      "text/plain": []
     },
     "execution_count": 432,
     "metadata": {},
     "output_type": "execute_result"
    }
   ],
   "source": [
    "win_iface = gr.Interface(\n",
    "    fn=make_win_bet,\n",
    "    inputs=[\n",
    "        gr.Textbox(\"\", label=\"Home Team\"),\n",
    "        gr.Textbox(\"\", label=\"Away Team\"),\n",
    "        gr.Checkbox(label=\"Is Home Winning?\")\n",
    "    ],\n",
    "    outputs=gr.Textbox(label='Correct'),\n",
    "    theme=\"compact\",\n",
    "    title=\"Winning Bet Predictor\"\n",
    ")\n",
    "\n",
    "win_iface.launch()"
   ]
  },
  {
   "cell_type": "code",
   "execution_count": 433,
   "metadata": {},
   "outputs": [
    {
     "name": "stderr",
     "output_type": "stream",
     "text": [
      "C:\\Users\\fergb\\AppData\\Local\\Packages\\PythonSoftwareFoundation.Python.3.8_qbz5n2kfra8p0\\LocalCache\\local-packages\\Python38\\site-packages\\gradio\\blocks.py:528: UserWarning: Cannot load compact. Caught Exception: The space compact does not exist\n",
      "  warnings.warn(f\"Cannot load {theme}. Caught Exception: {str(e)}\")\n"
     ]
    },
    {
     "name": "stdout",
     "output_type": "stream",
     "text": [
      "Running on local URL:  http://127.0.0.1:7877\n",
      "\n",
      "To create a public link, set `share=True` in `launch()`.\n"
     ]
    },
    {
     "data": {
      "text/html": [
       "<div><iframe src=\"http://127.0.0.1:7877/\" width=\"100%\" height=\"500\" allow=\"autoplay; camera; microphone; clipboard-read; clipboard-write;\" frameborder=\"0\" allowfullscreen></iframe></div>"
      ],
      "text/plain": [
       "<IPython.core.display.HTML object>"
      ]
     },
     "metadata": {},
     "output_type": "display_data"
    },
    {
     "data": {
      "text/plain": []
     },
     "execution_count": 433,
     "metadata": {},
     "output_type": "execute_result"
    }
   ],
   "source": [
    "score_iface = gr.Interface(\n",
    "    fn=make_score_bet,\n",
    "    inputs=[\n",
    "        gr.Textbox(\"\", label=\"Home Team\"),\n",
    "        gr.Textbox(\"\", label=\"Away Team\"),\n",
    "        gr.Number(label='Bet'),\n",
    "        gr.Checkbox(label=\"Betting home team?\"),\n",
    "        gr.Checkbox(label='Betting Over?')\n",
    "    ],\n",
    "    outputs=[\n",
    "        gr.Textbox(label='Correct'),\n",
    "        gr.Textbox(label='Prediction')\n",
    "    ],\n",
    "    theme=\"compact\",\n",
    "    title=\"Score Bet Predictor\"\n",
    ")\n",
    "\n",
    "score_iface.launch()"
   ]
  },
  {
   "cell_type": "code",
   "execution_count": 435,
   "metadata": {},
   "outputs": [
    {
     "name": "stderr",
     "output_type": "stream",
     "text": [
      "C:\\Users\\fergb\\AppData\\Local\\Packages\\PythonSoftwareFoundation.Python.3.8_qbz5n2kfra8p0\\LocalCache\\local-packages\\Python38\\site-packages\\gradio\\blocks.py:528: UserWarning: Cannot load compact. Caught Exception: The space compact does not exist\n",
      "  warnings.warn(f\"Cannot load {theme}. Caught Exception: {str(e)}\")\n"
     ]
    },
    {
     "name": "stdout",
     "output_type": "stream",
     "text": [
      "Running on local URL:  http://127.0.0.1:7879\n",
      "\n",
      "To create a public link, set `share=True` in `launch()`.\n"
     ]
    },
    {
     "data": {
      "text/html": [
       "<div><iframe src=\"http://127.0.0.1:7879/\" width=\"100%\" height=\"500\" allow=\"autoplay; camera; microphone; clipboard-read; clipboard-write;\" frameborder=\"0\" allowfullscreen></iframe></div>"
      ],
      "text/plain": [
       "<IPython.core.display.HTML object>"
      ]
     },
     "metadata": {},
     "output_type": "display_data"
    },
    {
     "data": {
      "text/plain": []
     },
     "execution_count": 435,
     "metadata": {},
     "output_type": "execute_result"
    },
    {
     "name": "stderr",
     "output_type": "stream",
     "text": [
      "Traceback (most recent call last):\n",
      "  File \"C:\\Users\\fergb\\AppData\\Local\\Packages\\PythonSoftwareFoundation.Python.3.8_qbz5n2kfra8p0\\LocalCache\\local-packages\\Python38\\site-packages\\gradio\\queueing.py\", line 427, in call_prediction\n",
      "    output = await route_utils.call_process_api(\n",
      "  File \"C:\\Users\\fergb\\AppData\\Local\\Packages\\PythonSoftwareFoundation.Python.3.8_qbz5n2kfra8p0\\LocalCache\\local-packages\\Python38\\site-packages\\gradio\\route_utils.py\", line 232, in call_process_api\n",
      "    output = await app.get_blocks().process_api(\n",
      "  File \"C:\\Users\\fergb\\AppData\\Local\\Packages\\PythonSoftwareFoundation.Python.3.8_qbz5n2kfra8p0\\LocalCache\\local-packages\\Python38\\site-packages\\gradio\\blocks.py\", line 1525, in process_api\n",
      "    result = await self.call_function(\n",
      "  File \"C:\\Users\\fergb\\AppData\\Local\\Packages\\PythonSoftwareFoundation.Python.3.8_qbz5n2kfra8p0\\LocalCache\\local-packages\\Python38\\site-packages\\gradio\\blocks.py\", line 1147, in call_function\n",
      "    prediction = await anyio.to_thread.run_sync(\n",
      "  File \"C:\\Users\\fergb\\AppData\\Local\\Packages\\PythonSoftwareFoundation.Python.3.8_qbz5n2kfra8p0\\LocalCache\\local-packages\\Python38\\site-packages\\anyio\\to_thread.py\", line 33, in run_sync\n",
      "    return await get_asynclib().run_sync_in_worker_thread(\n",
      "  File \"C:\\Users\\fergb\\AppData\\Local\\Packages\\PythonSoftwareFoundation.Python.3.8_qbz5n2kfra8p0\\LocalCache\\local-packages\\Python38\\site-packages\\anyio\\_backends\\_asyncio.py\", line 877, in run_sync_in_worker_thread\n",
      "    return await future\n",
      "  File \"C:\\Users\\fergb\\AppData\\Local\\Packages\\PythonSoftwareFoundation.Python.3.8_qbz5n2kfra8p0\\LocalCache\\local-packages\\Python38\\site-packages\\anyio\\_backends\\_asyncio.py\", line 807, in run\n",
      "    result = context.run(func, *args)\n",
      "  File \"C:\\Users\\fergb\\AppData\\Local\\Packages\\PythonSoftwareFoundation.Python.3.8_qbz5n2kfra8p0\\LocalCache\\local-packages\\Python38\\site-packages\\gradio\\utils.py\", line 672, in wrapper\n",
      "    response = f(*args, **kwargs)\n",
      "  File \"C:\\Users\\fergb\\AppData\\Local\\Temp\\ipykernel_35100\\2934648804.py\", line 2, in make_player_stat_bet\n",
      "    pred = predict_player_stat_against_team(player, opponent, stat)\n",
      "  File \"C:\\Users\\fergb\\AppData\\Local\\Temp\\ipykernel_35100\\3872338886.py\", line 16, in predict_player_stat_against_team\n",
      "    predictions = predict_regressor(X, y)\n",
      "  File \"C:\\Users\\fergb\\AppData\\Local\\Temp\\ipykernel_35100\\3174995031.py\", line 9, in predict_regressor\n",
      "    rf.fit(X_train, y_train)\n",
      "  File \"C:\\Users\\fergb\\AppData\\Local\\Packages\\PythonSoftwareFoundation.Python.3.8_qbz5n2kfra8p0\\LocalCache\\local-packages\\Python38\\site-packages\\sklearn\\base.py\", line 1152, in wrapper\n",
      "    return fit_method(estimator, *args, **kwargs)\n",
      "  File \"C:\\Users\\fergb\\AppData\\Local\\Packages\\PythonSoftwareFoundation.Python.3.8_qbz5n2kfra8p0\\LocalCache\\local-packages\\Python38\\site-packages\\sklearn\\ensemble\\_forest.py\", line 348, in fit\n",
      "    X, y = self._validate_data(\n",
      "  File \"C:\\Users\\fergb\\AppData\\Local\\Packages\\PythonSoftwareFoundation.Python.3.8_qbz5n2kfra8p0\\LocalCache\\local-packages\\Python38\\site-packages\\sklearn\\base.py\", line 622, in _validate_data\n",
      "    X, y = check_X_y(X, y, **check_params)\n",
      "  File \"C:\\Users\\fergb\\AppData\\Local\\Packages\\PythonSoftwareFoundation.Python.3.8_qbz5n2kfra8p0\\LocalCache\\local-packages\\Python38\\site-packages\\sklearn\\utils\\validation.py\", line 1146, in check_X_y\n",
      "    X = check_array(\n",
      "  File \"C:\\Users\\fergb\\AppData\\Local\\Packages\\PythonSoftwareFoundation.Python.3.8_qbz5n2kfra8p0\\LocalCache\\local-packages\\Python38\\site-packages\\sklearn\\utils\\validation.py\", line 957, in check_array\n",
      "    _assert_all_finite(\n",
      "  File \"C:\\Users\\fergb\\AppData\\Local\\Packages\\PythonSoftwareFoundation.Python.3.8_qbz5n2kfra8p0\\LocalCache\\local-packages\\Python38\\site-packages\\sklearn\\utils\\validation.py\", line 122, in _assert_all_finite\n",
      "    _assert_all_finite_element_wise(\n",
      "  File \"C:\\Users\\fergb\\AppData\\Local\\Packages\\PythonSoftwareFoundation.Python.3.8_qbz5n2kfra8p0\\LocalCache\\local-packages\\Python38\\site-packages\\sklearn\\utils\\validation.py\", line 171, in _assert_all_finite_element_wise\n",
      "    raise ValueError(msg_err)\n",
      "ValueError: Input X contains NaN.\n",
      "RandomForestRegressor does not accept missing values encoded as NaN natively. For supervised learning, you might want to consider sklearn.ensemble.HistGradientBoostingClassifier and Regressor which accept missing values encoded as NaNs natively. Alternatively, it is possible to preprocess the data, for instance by using an imputer transformer in a pipeline or drop samples with missing values. See https://scikit-learn.org/stable/modules/impute.html You can find a list of all estimators that handle NaN values at the following page: https://scikit-learn.org/stable/modules/impute.html#estimators-that-handle-nan-values\n",
      "Traceback (most recent call last):\n",
      "  File \"C:\\Users\\fergb\\AppData\\Local\\Packages\\PythonSoftwareFoundation.Python.3.8_qbz5n2kfra8p0\\LocalCache\\local-packages\\Python38\\site-packages\\gradio\\queueing.py\", line 427, in call_prediction\n",
      "    output = await route_utils.call_process_api(\n",
      "  File \"C:\\Users\\fergb\\AppData\\Local\\Packages\\PythonSoftwareFoundation.Python.3.8_qbz5n2kfra8p0\\LocalCache\\local-packages\\Python38\\site-packages\\gradio\\route_utils.py\", line 232, in call_process_api\n",
      "    output = await app.get_blocks().process_api(\n",
      "  File \"C:\\Users\\fergb\\AppData\\Local\\Packages\\PythonSoftwareFoundation.Python.3.8_qbz5n2kfra8p0\\LocalCache\\local-packages\\Python38\\site-packages\\gradio\\blocks.py\", line 1525, in process_api\n",
      "    result = await self.call_function(\n",
      "  File \"C:\\Users\\fergb\\AppData\\Local\\Packages\\PythonSoftwareFoundation.Python.3.8_qbz5n2kfra8p0\\LocalCache\\local-packages\\Python38\\site-packages\\gradio\\blocks.py\", line 1147, in call_function\n",
      "    prediction = await anyio.to_thread.run_sync(\n",
      "  File \"C:\\Users\\fergb\\AppData\\Local\\Packages\\PythonSoftwareFoundation.Python.3.8_qbz5n2kfra8p0\\LocalCache\\local-packages\\Python38\\site-packages\\anyio\\to_thread.py\", line 33, in run_sync\n",
      "    return await get_asynclib().run_sync_in_worker_thread(\n",
      "  File \"C:\\Users\\fergb\\AppData\\Local\\Packages\\PythonSoftwareFoundation.Python.3.8_qbz5n2kfra8p0\\LocalCache\\local-packages\\Python38\\site-packages\\anyio\\_backends\\_asyncio.py\", line 877, in run_sync_in_worker_thread\n",
      "    return await future\n",
      "  File \"C:\\Users\\fergb\\AppData\\Local\\Packages\\PythonSoftwareFoundation.Python.3.8_qbz5n2kfra8p0\\LocalCache\\local-packages\\Python38\\site-packages\\anyio\\_backends\\_asyncio.py\", line 807, in run\n",
      "    result = context.run(func, *args)\n",
      "  File \"C:\\Users\\fergb\\AppData\\Local\\Packages\\PythonSoftwareFoundation.Python.3.8_qbz5n2kfra8p0\\LocalCache\\local-packages\\Python38\\site-packages\\gradio\\utils.py\", line 672, in wrapper\n",
      "    response = f(*args, **kwargs)\n",
      "  File \"C:\\Users\\fergb\\AppData\\Local\\Temp\\ipykernel_35100\\2934648804.py\", line 2, in make_player_stat_bet\n",
      "    pred = predict_player_stat_against_team(player, opponent, stat)\n",
      "  File \"C:\\Users\\fergb\\AppData\\Local\\Temp\\ipykernel_35100\\3872338886.py\", line 16, in predict_player_stat_against_team\n",
      "    predictions = predict_regressor(X, y)\n",
      "  File \"C:\\Users\\fergb\\AppData\\Local\\Temp\\ipykernel_35100\\3174995031.py\", line 9, in predict_regressor\n",
      "    rf.fit(X_train, y_train)\n",
      "  File \"C:\\Users\\fergb\\AppData\\Local\\Packages\\PythonSoftwareFoundation.Python.3.8_qbz5n2kfra8p0\\LocalCache\\local-packages\\Python38\\site-packages\\sklearn\\base.py\", line 1152, in wrapper\n",
      "    return fit_method(estimator, *args, **kwargs)\n",
      "  File \"C:\\Users\\fergb\\AppData\\Local\\Packages\\PythonSoftwareFoundation.Python.3.8_qbz5n2kfra8p0\\LocalCache\\local-packages\\Python38\\site-packages\\sklearn\\ensemble\\_forest.py\", line 348, in fit\n",
      "    X, y = self._validate_data(\n",
      "  File \"C:\\Users\\fergb\\AppData\\Local\\Packages\\PythonSoftwareFoundation.Python.3.8_qbz5n2kfra8p0\\LocalCache\\local-packages\\Python38\\site-packages\\sklearn\\base.py\", line 622, in _validate_data\n",
      "    X, y = check_X_y(X, y, **check_params)\n",
      "  File \"C:\\Users\\fergb\\AppData\\Local\\Packages\\PythonSoftwareFoundation.Python.3.8_qbz5n2kfra8p0\\LocalCache\\local-packages\\Python38\\site-packages\\sklearn\\utils\\validation.py\", line 1146, in check_X_y\n",
      "    X = check_array(\n",
      "  File \"C:\\Users\\fergb\\AppData\\Local\\Packages\\PythonSoftwareFoundation.Python.3.8_qbz5n2kfra8p0\\LocalCache\\local-packages\\Python38\\site-packages\\sklearn\\utils\\validation.py\", line 957, in check_array\n",
      "    _assert_all_finite(\n",
      "  File \"C:\\Users\\fergb\\AppData\\Local\\Packages\\PythonSoftwareFoundation.Python.3.8_qbz5n2kfra8p0\\LocalCache\\local-packages\\Python38\\site-packages\\sklearn\\utils\\validation.py\", line 122, in _assert_all_finite\n",
      "    _assert_all_finite_element_wise(\n",
      "  File \"C:\\Users\\fergb\\AppData\\Local\\Packages\\PythonSoftwareFoundation.Python.3.8_qbz5n2kfra8p0\\LocalCache\\local-packages\\Python38\\site-packages\\sklearn\\utils\\validation.py\", line 171, in _assert_all_finite_element_wise\n",
      "    raise ValueError(msg_err)\n",
      "ValueError: Input X contains NaN.\n",
      "RandomForestRegressor does not accept missing values encoded as NaN natively. For supervised learning, you might want to consider sklearn.ensemble.HistGradientBoostingClassifier and Regressor which accept missing values encoded as NaNs natively. Alternatively, it is possible to preprocess the data, for instance by using an imputer transformer in a pipeline or drop samples with missing values. See https://scikit-learn.org/stable/modules/impute.html You can find a list of all estimators that handle NaN values at the following page: https://scikit-learn.org/stable/modules/impute.html#estimators-that-handle-nan-values\n",
      "\n",
      "The above exception was the direct cause of the following exception:\n",
      "\n",
      "Traceback (most recent call last):\n",
      "  File \"C:\\Users\\fergb\\AppData\\Local\\Packages\\PythonSoftwareFoundation.Python.3.8_qbz5n2kfra8p0\\LocalCache\\local-packages\\Python38\\site-packages\\gradio\\queueing.py\", line 472, in process_events\n",
      "    response = await self.call_prediction(awake_events, batch)\n",
      "  File \"C:\\Users\\fergb\\AppData\\Local\\Packages\\PythonSoftwareFoundation.Python.3.8_qbz5n2kfra8p0\\LocalCache\\local-packages\\Python38\\site-packages\\gradio\\queueing.py\", line 436, in call_prediction\n",
      "    raise Exception(str(error) if show_error else None) from error\n",
      "Exception: None\n"
     ]
    }
   ],
   "source": [
    "stat_iface = gr.Interface(\n",
    "    fn=make_player_stat_bet,\n",
    "    inputs=[\n",
    "        gr.Textbox(\"\", label=\"Player\"),\n",
    "        gr.Textbox(\"\", label='Stat'),\n",
    "        gr.Number(label='Bet'),\n",
    "        gr.Textbox(\"\", label='Opponent'),\n",
    "        gr.Checkbox(label='Betting Over?')\n",
    "    ],\n",
    "    outputs=[\n",
    "        gr.Textbox(label='Correct'),\n",
    "        gr.Textbox(label='Prediction')\n",
    "    ],\n",
    "    theme=\"compact\",\n",
    "    title=\"Stat Bet Predictor\"\n",
    ")\n",
    "\n",
    "stat_iface.launch()"
   ]
  }
 ],
 "metadata": {
  "kernelspec": {
   "display_name": "Python 3",
   "language": "python",
   "name": "python3"
  },
  "language_info": {
   "codemirror_mode": {
    "name": "ipython",
    "version": 3
   },
   "file_extension": ".py",
   "mimetype": "text/x-python",
   "name": "python",
   "nbconvert_exporter": "python",
   "pygments_lexer": "ipython3",
   "version": "3.8.10"
  }
 },
 "nbformat": 4,
 "nbformat_minor": 2
}
